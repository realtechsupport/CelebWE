{
 "cells": [
  {
   "cell_type": "markdown",
   "metadata": {},
   "source": [
    "### Experimenting with face images from CelebA data set\n",
    "* Available at <a href=\"http://personal.ie.cuhk.edu.hk/~lz013/projects/CelebA.html\n",
    "\">http://personal.ie.cuhk.edu.hk/~lz013/projects/CelebA.html\n",
    "</a>\n",
    "* Total number of images = 202,599\n",
    "* Attributes = 40\n",
    "\n",
    "List of attributes\n",
    "<ol>\n",
    "<li><i>5_o_Clock_Shadow</i></li>\n",
    "<li><i>Arched_Eyebrows</i></li>\n",
    "<li><i>Attractive</i></li>\n",
    "<li><i>Bags_Under_Eyes</i></li>\n",
    "<li><i>Bald</i></li>\n",
    "<li><i>Bangs</i></li>\n",
    "<li><i>Big_Lips</i></li>\n",
    "<li><i>Big_Nose</i></li>\n",
    "<li><i>Black_Hair</i></li>\n",
    "<li><i>Blond_Hair</i></li>\n",
    "<li><i>Blurry</i></li>\n",
    "<li><i>Brown_Hair</i></li>\n",
    "<li><i>Bushy_Eyebrows</i></li>\n",
    "<li><i>Chubby</i></li>\n",
    "<li><i>Double_Chin</i></li>\n",
    "<li><i>Eyeglasses</i></li>\n",
    "<li><i>Goatee</i></li>\n",
    "<li><i>Gray_Hair</i></li>\n",
    "<li><i>Heavy_Makeup</i></li>\n",
    "<li><i>High_Cheekbones</i></li>\n",
    "<li><i>Male</i></li>\n",
    "<li><i>Mouth_Slightly_Open</i></li>\n",
    "<li><i>Mustache</i></li>\n",
    "<li><i>Narrow_Eyes</i></li>\n",
    "<li><i>No_Beard</i></li>\n",
    "<li><i>Oval_Face</i></li>\n",
    "<li><i>Pale_Skin</i></li>\n",
    "<li><i>Pointy_Nose</i></li>\n",
    "<li><i>Receding_Hairline</i></li>\n",
    "<li><i>Rosy_Cheeks</i></li>\n",
    "<li><i>Sideburns</i></li>\n",
    "<li><i>Smiling</i></li>\n",
    "<li><i>Straight_Hair</i></li>\n",
    "<li><i>Wavy_Hair</i></li>\n",
    "<li><i>Wearing_Earrings</i></li>\n",
    "<li><i>Wearing_Hat</i></li>\n",
    "<li><i>Wearing_Lipstick</i></li>\n",
    "<li><i>Wearing_Necklace</i></li>\n",
    "<li><i>Wearing_Necktie</i></li>\n",
    "<li><i>Young</i></li>\n",
    "</ol>"
   ]
  },
  {
   "cell_type": "code",
   "execution_count": 51,
   "metadata": {
    "collapsed": false
   },
   "outputs": [],
   "source": [
    "import csv\n",
    "import numpy as np\n",
    "import scipy.misc as sm\n",
    "import matplotlib.pyplot as plt\n",
    "import pickle\n",
    "from PIL import Image\n",
    "from scipy.io import loadmat\n",
    "import math\n",
    "%matplotlib inline"
   ]
  },
  {
   "cell_type": "code",
   "execution_count": null,
   "metadata": {
    "collapsed": true
   },
   "outputs": [],
   "source": [
    "# Next steps:\n",
    "# Choose a logical rule (using a subset of 40 attributes) to define the concept class (good vs. bad)\n",
    "# Split data into two parts\n",
    "# Train a CNN deep learning classifier\n",
    "# Infer the logical rule via black box auditing"
   ]
  },
  {
   "cell_type": "code",
   "execution_count": 6,
   "metadata": {
    "collapsed": false
   },
   "outputs": [],
   "source": [
    "#load all features\n",
    "attrvalues = {}\n",
    "X = []\n",
    "with open('list_attr_celeba.txt') as f:\n",
    "    numimages = int(f.readline())\n",
    "    attrnames = f.readline().split()\n",
    "    for line in f:\n",
    "        tokens = line.strip().split()\n",
    "        attrvalues[tokens[0]] = np.array([int(a) for a in tokens[1:]])\n"
   ]
  },
  {
   "cell_type": "code",
   "execution_count": null,
   "metadata": {
    "collapsed": true
   },
   "outputs": [],
   "source": [
    "numfeatures = 1#np.random.permutation(5)[0] + 1\n",
    "selfeatures = [2]#np.random.permutation(40)[0:numfeatures]\n",
    "print(\"Rule is:\")\n",
    "print([attrnames[i] for i in selfeatures])\n",
    "selfeaturesvec = -np.ones([40,])\n",
    "for i in selfeatures:\n",
    "    selfeaturesvec[i] = 1\n",
    "selfeaturesvec = selfeaturesvec.astype(int)"
   ]
  },
  {
   "cell_type": "code",
   "execution_count": 56,
   "metadata": {
    "collapsed": true
   },
   "outputs": [],
   "source": [
    "# create labels\n",
    "labelsall = []\n",
    "X = []\n",
    "for k in attrvalues.keys():\n",
    "    if all(attrvalues[k][selfeatures] == 1):\n",
    "        labelsall.append(1)\n",
    "    else:\n",
    "        labelsall.append(0)"
   ]
  },
  {
   "cell_type": "code",
   "execution_count": 86,
   "metadata": {
    "collapsed": false
   },
   "outputs": [],
   "source": [
    "num = 10000\n",
    "sz = 32\n",
    "rids = np.random.permutation(numimages)[0:num]\n",
    "data = np.zeros([num,sz,sz,3])\n",
    "labels = np.zeros([num,2])\n",
    "for i in range(num):\n",
    "    sampleid = rids[i]\n",
    "    fname = './img_align_celeba/'+str(sampleid).zfill(6)+'.jpg'\n",
    "    img = Image.open(fname)\n",
    "    attrs = attrvalues[str(sampleid).zfill(6)+'.jpg']\n",
    "    img1 = img.resize([sz,sz])\n",
    "    imgarr = np.array(img1.getdata()).reshape(img1.size[0], img1.size[1], 3)\n",
    "    data[i,:,:,:] = imgarr\n",
    "    labels[i,labelsall[sampleid]] = 1\n"
   ]
  },
  {
   "cell_type": "code",
   "execution_count": 87,
   "metadata": {
    "collapsed": false
   },
   "outputs": [],
   "source": [
    "#split data into train and test\n",
    "spl = math.floor(num/2)\n",
    "X = data[0:spl,:,:,:]\n",
    "X_test = data[spl:,:,:,:]\n",
    "Y = labels[0:spl,:]\n",
    "Y_test = labels[spl:,:]"
   ]
  },
  {
   "cell_type": "code",
   "execution_count": 88,
   "metadata": {
    "collapsed": true
   },
   "outputs": [],
   "source": [
    "# save data\n",
    "pickle.dump(X,open('face_dataset_X.pkl','wb'))\n",
    "pickle.dump(Y,open('face_dataset_Y.pkl','wb'))\n",
    "pickle.dump(X_test,open('face_dataset_X_test.pkl','wb'))\n",
    "pickle.dump(Y_test,open('face_dataset_Y_test.pkl','wb'))"
   ]
  },
  {
   "cell_type": "code",
   "execution_count": 77,
   "metadata": {
    "collapsed": false
   },
   "outputs": [
    {
     "ename": "OSError",
     "evalue": "[Errno 22] Invalid argument",
     "output_type": "error",
     "traceback": [
      "\u001b[0;31m---------------------------------------------------------------------------\u001b[0m",
      "\u001b[0;31mOSError\u001b[0m                                   Traceback (most recent call last)",
      "\u001b[0;32m<ipython-input-77-627c9672f473>\u001b[0m in \u001b[0;36m<module>\u001b[0;34m()\u001b[0m\n\u001b[0;32m----> 1\u001b[0;31m \u001b[0mpickle\u001b[0m\u001b[0;34m.\u001b[0m\u001b[0mdump\u001b[0m\u001b[0;34m(\u001b[0m\u001b[0;34m[\u001b[0m\u001b[0mX\u001b[0m\u001b[0;34m,\u001b[0m\u001b[0mY\u001b[0m\u001b[0;34m,\u001b[0m\u001b[0mX_test\u001b[0m\u001b[0;34m,\u001b[0m\u001b[0mY_test\u001b[0m\u001b[0;34m]\u001b[0m\u001b[0;34m,\u001b[0m\u001b[0mopen\u001b[0m\u001b[0;34m(\u001b[0m\u001b[0;34m'face_dataset.pkl'\u001b[0m\u001b[0;34m,\u001b[0m\u001b[0;34m'wb'\u001b[0m\u001b[0;34m)\u001b[0m\u001b[0;34m)\u001b[0m\u001b[0;34m\u001b[0m\u001b[0m\n\u001b[0m",
      "\u001b[0;31mOSError\u001b[0m: [Errno 22] Invalid argument"
     ]
    }
   ],
   "source": [
    "# this did not work for me because of large size of the data (apparently pickle does not save >2GB files on MacOSx)\n",
    "pickle.dump([X,Y,X_test,Y_test],open('face_dataset.pkl','wb'))"
   ]
  },
  {
   "cell_type": "markdown",
   "metadata": {},
   "source": [
    "features:\n",
    "#1 male-female\n",
    "#2 old-young\n",
    "#3 n random features (v1: several, v2: just one)\n",
    "#4 features selected by a young child\n",
    "#5 features you are born with\n",
    "#6 features you can add easily\n",
    "#7 caucasian beauty (blond, oval face, high cheekbone)\n",
    "#8 less than beautiful: bald, chubby, old\n",
    "#9 beauty with a blemish (only one)\n",
    "#10 'attractive' label alone"
   ]
  }
 ],
 "metadata": {
  "kernelspec": {
   "display_name": "Python 3",
   "language": "python",
   "name": "python3"
  },
  "language_info": {
   "codemirror_mode": {
    "name": "ipython",
    "version": 3
   },
   "file_extension": ".py",
   "mimetype": "text/x-python",
   "name": "python",
   "nbconvert_exporter": "python",
   "pygments_lexer": "ipython3",
   "version": "3.6.0"
  }
 },
 "nbformat": 4,
 "nbformat_minor": 2
}
